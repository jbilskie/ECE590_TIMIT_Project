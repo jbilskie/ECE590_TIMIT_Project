{
 "cells": [
  {
   "cell_type": "code",
   "execution_count": 1,
   "metadata": {},
   "outputs": [
    {
     "data": {
      "text/plain": [
       "(<timit_utils.core.SubCorpus at 0x10c731550>,\n",
       " <timit_utils.core.SubCorpus at 0x1c2920bdd8>)"
      ]
     },
     "execution_count": 1,
     "metadata": {},
     "output_type": "execute_result"
    }
   ],
   "source": [
    "import torch\n",
    "import torch.nn as nn\n",
    "import torch.nn.functional as F\n",
    "import torch.optim\n",
    "import torchvision\n",
    "import torchvision.transforms as transforms\n",
    "import torch.optim as optim\n",
    "import matplotlib.pyplot as plt\n",
    "import numpy as np\n",
    "import imageio\n",
    "import timit_utils as tu\n",
    "import timit_utils.audio_utils as au\n",
    "import timit_utils.drawing_utils as du\n",
    "import librosa\n",
    "from python_speech_features import mfcc\n",
    "from python_speech_features import logfbank\n",
    "from sklearn.metrics import pairwise as pw\n",
    "from sklearn import preprocessing\n",
    "import random\n",
    "import pandas as pd\n",
    "from matplotlib import pyplot as plt\n",
    "\n",
    "corpus = tu.Corpus('TIMIT')\n",
    "train = corpus.train\n",
    "test = corpus.test\n",
    "corpus.train, corpus.test"
   ]
  },
  {
   "cell_type": "markdown",
   "metadata": {},
   "source": [
    "### Mel-scale Based Features for Speaker ID"
   ]
  },
  {
   "cell_type": "code",
   "execution_count": 3,
   "metadata": {},
   "outputs": [
    {
     "name": "stdout",
     "output_type": "stream",
     "text": [
      "Number of speakers in data:  233\n"
     ]
    }
   ],
   "source": [
    "data_set = []\n",
    "label_id = []\n",
    "label_gen = []\n",
    "label_dem = []\n",
    "num_regions = 3 # Number of regions to sample from\n",
    "# Train and test speakers come from the same 8 regions\n",
    "all_speaker_regions = list(train.regions.keys())\n",
    "speaker_regions = [all_speaker_regions[i] for i in np.random.choice(len(all_speaker_regions), replace=False, size=num_regions)]\n",
    "\n",
    "for p in range(len(train.people)):\n",
    "    count = 0\n",
    "    # Only draw speakers from certain regions\n",
    "    if train.person_by_index(p).region_name in speaker_regions:\n",
    "        for s in range(len(train.person_by_index(p).sentences)):\n",
    "            sentence = train.person_by_index(p).sentence_by_index(s).raw_audio\n",
    "            data_set.append(sentence)\n",
    "            label_id.append(train.person_by_index(p).name)\n",
    "            label_gen.append(train.person_by_index(p).gender)\n",
    "            label_dem.append(train.person_by_index(p).region_name)\n",
    "for p in range(len(test.people)):\n",
    "    count = 0\n",
    "    if test.person_by_index(p).region_name in speaker_regions:\n",
    "        for s in range(len(test.person_by_index(p).sentences)):\n",
    "            sentence = test.person_by_index(p).sentence_by_index(s).raw_audio\n",
    "            data_set.append(sentence)\n",
    "            label_id.append(test.person_by_index(p).name)\n",
    "            label_gen.append(test.person_by_index(p).gender)\n",
    "            label_dem.append(test.person_by_index(p).region_name)\n",
    "speakers_in_dataset = len(set(label_id))\n",
    "print('Number of speakers in data: ', speakers_in_dataset)"
   ]
  },
  {
   "cell_type": "code",
   "execution_count": 4,
   "metadata": {
    "scrolled": true
   },
   "outputs": [],
   "source": [
    "le1 = preprocessing.LabelEncoder()\n",
    "le1.fit(label_id)\n",
    "label_id = le1.transform(label_id)\n",
    "le2 = preprocessing.LabelEncoder()\n",
    "le2.fit(label_gen)\n",
    "label_gen = le2.transform(label_gen)\n",
    "le3 = preprocessing.LabelEncoder()\n",
    "le3.fit(label_dem)\n",
    "label_dem = le3.transform(label_dem)\n",
    "\n",
    "num_speakers = 20 # number of speakers being considered\n",
    "\n",
    "sub_data_set = []\n",
    "sub_label_id = []\n",
    "sub_label_gen = []\n",
    "sub_label_dem = []\n",
    "speak_ind = []\n",
    "for ind1 in range(num_speakers):\n",
    "    ind2 = np.random.randint(speakers_in_dataset, size=1)\n",
    "    while ind2[0] in speak_ind: # Don't repeat speakers\n",
    "        ind2 = np.random.randint(speakers_in_dataset, size=1)\n",
    "    speak_ind.append(ind2[0])\n",
    "act_ind = []\n",
    "for ID in speak_ind:\n",
    "    act_ind= np.where(label_id == ID)\n",
    "    sub_data_set = sub_data_set+data_set[act_ind[0][0]:act_ind[0][-1]+1]\n",
    "    sub_label_id = sub_label_id+label_id[act_ind[0]].tolist()\n",
    "    sub_label_gen = sub_label_gen+label_gen[act_ind[0]].tolist()\n",
    "    sub_label_dem = sub_label_dem+label_dem[act_ind[0]].tolist()"
   ]
  },
  {
   "cell_type": "code",
   "execution_count": 5,
   "metadata": {},
   "outputs": [],
   "source": [
    "sentence_lengths = []\n",
    "for p in range(len(train.people)):\n",
    "    for s in range(len(train.person_by_index(p).sentences)):\n",
    "        sentence_lengths.append(len(train.person_by_index(p).sentence_by_index(s).raw_audio))\n",
    "for p in range(len(test.people)):\n",
    "    for s in range(len(test.person_by_index(p).sentences)):\n",
    "        sentence_lengths.append(len(test.person_by_index(p).sentence_by_index(s).raw_audio))"
   ]
  },
  {
   "cell_type": "code",
   "execution_count": 6,
   "metadata": {},
   "outputs": [],
   "source": [
    "def get_filterbank(data,fs,wlen,nfilt):\n",
    "    # 64-dimensional filterbank coefficients\n",
    "    logfbank_es = logfbank(data,samplerate=fs,winlen=wlen,nfilt=64)\n",
    "    # ZMUV the filterbank coefficients\n",
    "    logfbank_es = (logfbank_es-np.mean(logfbank_es))/np.std(logfbank_es)\n",
    "    return logfbank_es"
   ]
  },
  {
   "cell_type": "code",
   "execution_count": 7,
   "metadata": {
    "scrolled": false
   },
   "outputs": [],
   "source": [
    "fs = 16000\n",
    "wlen = 0.025\n",
    "num_train_per_test = 3 # for every 3 training sentences, there is 1 testing sentence\n",
    "training_set = []\n",
    "training_label_id = []\n",
    "training_label_gen = []\n",
    "training_label_dem = []\n",
    "testing_set = []\n",
    "testing_label_id = []\n",
    "testing_label_gen = []\n",
    "testing_label_dem = []\n",
    "for ID in set(sub_label_id):\n",
    "    person_ind = [i for i, x in enumerate(sub_label_id) if x == ID]\n",
    "    for i, sent_per_ID in enumerate(person_ind):\n",
    "        if i%(num_train_per_test+1) == 0: # Add 25% of data to testing set\n",
    "            testing_set.append(sub_data_set[sent_per_ID])\n",
    "            testing_label_id.append(sub_label_id[sent_per_ID])\n",
    "            testing_label_gen.append(sub_label_gen[sent_per_ID])\n",
    "            testing_label_dem.append(sub_label_dem[sent_per_ID])\n",
    "        else: # Add 75% of data to training set\n",
    "            training_set.append(sub_data_set[sent_per_ID])\n",
    "            training_label_id.append(sub_label_id[sent_per_ID])\n",
    "            training_label_gen.append(sub_label_gen[sent_per_ID])\n",
    "            training_label_dem.append(sub_label_dem[sent_per_ID])\n",
    "\n",
    "# Extract features from \n",
    "len_samps = 1 # length of samples in seconds\n",
    "fs = 16000\n",
    "ave_seconds_per_ID = sum(sentence_lengths)/(fs*len(sentence_lengths))*10\n",
    "num_samps_per_ID = round(ave_seconds_per_ID)*4\n",
    "num_samps_per_ID_test = round(num_samps_per_ID*(1/(num_train_per_test+1)))\n",
    "num_samps_per_ID_train = num_samps_per_ID-num_samps_per_ID_test\n",
    "training_data = []\n",
    "training_l_id = []\n",
    "training_l_gen = []\n",
    "training_l_dem = []\n",
    "testing_data = []\n",
    "testing_l_id = []\n",
    "testing_l_gen = []\n",
    "testing_l_dem = []\n",
    "for ID_i, ID in enumerate(set(sub_label_id)):\n",
    "    train_person_ind = [i for i, x in enumerate(training_label_id) if x == ID]\n",
    "    test_person_ind = [i for i, x in enumerate(testing_label_id) if x == ID]\n",
    "    for samp in range(num_samps_per_ID_train):\n",
    "        sent = random.choice(train_person_ind)\n",
    "        while len(training_set[sent]) < round(fs*len_samps):\n",
    "            sent = random.choice(train_person_ind)\n",
    "        start_i = random.randint(0,len(training_set[sent])-round(fs*len_samps))\n",
    "        curr_data = training_set[sent][start_i:start_i+round(fs*len_samps)]\n",
    "        training_data.append(get_filterbank(curr_data,fs,wlen,64))\n",
    "        training_l_id.append(ID_i)\n",
    "        training_l_gen.append(training_label_gen[sent])\n",
    "        training_l_dem.append(training_label_dem[sent])\n",
    "    for samp in range(num_samps_per_ID_test):\n",
    "        sent = random.choice(test_person_ind)\n",
    "        while len(testing_set[sent]) < round(fs*len_samps):\n",
    "            sent = random.choice(test_person_ind)\n",
    "        start_i = random.randint(0,len(testing_set[sent])-round(fs*len_samps))\n",
    "        curr_data = testing_set[sent][start_i:start_i+round(fs*len_samps)]\n",
    "        testing_data.append(get_filterbank(curr_data,fs,wlen,64))\n",
    "        testing_l_id.append(ID_i)\n",
    "        testing_l_gen.append(testing_label_gen[sent])\n",
    "        testing_l_dem.append(testing_label_dem[sent])"
   ]
  },
  {
   "cell_type": "code",
   "execution_count": 87,
   "metadata": {},
   "outputs": [],
   "source": [
    "class ResBlock(nn.Module):\n",
    "    def __init__(self,hidden_channels):\n",
    "        super(ResBlock, self).__init__()\n",
    "        self.conv1 = nn.Conv2d(in_channels=hidden_channels,out_channels=hidden_channels,kernel_size=3,stride=1,padding=1,bias=True)\n",
    "        self.bn1 = nn.BatchNorm2d(hidden_channels)\n",
    "        self.conv2 = nn.Conv2d(in_channels=hidden_channels,out_channels=hidden_channels, kernel_size=3, stride=1,padding=1,bias=True)\n",
    "        self.bn2 = nn.BatchNorm2d(hidden_channels)\n",
    "\n",
    "    def forward(self, x):\n",
    "        y = self.conv1(x)\n",
    "        ##y = F.batch_norm(y,self.running_mu1,self.running_std1)\n",
    "        y = self.bn1(y)\n",
    "        y = F.leaky_relu(y,0.1)\n",
    "        y = self.conv2(y)\n",
    "        y = self.bn2(y)\n",
    "        y = F.leaky_relu(y+x,0.1)\n",
    "        return y\n",
    "\n",
    "class ResNet(nn.Module):\n",
    "    def __init__(self,in_channels,hidden_channels,num_speakers,num_regions):\n",
    "        super(ResNet, self).__init__()\n",
    "        self.conv1 = nn.Conv2d(in_channels=in_channels,out_channels=hidden_channels,kernel_size=5,stride=2,padding=0,bias=True)\n",
    "        self.resblock = ResBlock(hidden_channels)\n",
    "        self.fc = nn.Linear(in_features=hidden_channels*24*15,out_features=num_speakers)\n",
    "        self.fc2 = nn.Linear(in_features=hidden_channels*24*15,out_features=2)\n",
    "        self.fc3 = nn.Linear(in_features=hidden_channels*24*15,out_features=num_regions)\n",
    "\n",
    "    def forward(self, x):\n",
    "        x = F.relu(self.conv1(x),0.1)\n",
    "        x = F.max_pool2d(x,2)\n",
    "        x = self.resblock(x)\n",
    "        x = x.view(x.size(0),-1)\n",
    "        # Separate fully connected layers\n",
    "        y1 = self.fc(x)\n",
    "        y2 = self.fc2(x)\n",
    "        y3 = self.fc3(x)\n",
    "        return y1, y2, y3"
   ]
  },
  {
   "cell_type": "code",
   "execution_count": 88,
   "metadata": {},
   "outputs": [],
   "source": [
    "train_list = []\n",
    "for ind, data in enumerate(training_data):\n",
    "    train_list.append((data, training_l_id[ind], training_l_gen[ind], training_l_dem[ind]))\n",
    "test_list = []\n",
    "for ind, data in enumerate(testing_data):\n",
    "    test_list.append((data, testing_l_id[ind], testing_l_gen[ind], testing_l_dem[ind]))"
   ]
  },
  {
   "cell_type": "code",
   "execution_count": null,
   "metadata": {
    "scrolled": false
   },
   "outputs": [
    {
     "name": "stdout",
     "output_type": "stream",
     "text": [
      "Batch size: 50. Epoch 1: Loss: 0.105452\n",
      "Batch size: 50. Epoch 2: Loss: 0.052094\n",
      "Batch size: 50. Epoch 3: Loss: 0.025415\n",
      "Batch size: 50. Epoch 4: Loss: 0.007734\n",
      "Batch size: 50. Epoch 5: Loss: 0.004706\n",
      "Batch size: 50. Epoch 6: Loss: 0.003488\n",
      "Batch size: 50. Epoch 7: Loss: 0.002856\n",
      "Batch size: 50. Epoch 8: Loss: 0.002360\n",
      "Batch size: 50. Epoch 9: Loss: 0.002075\n",
      "Batch size: 50. Epoch 10: Loss: 0.001818\n",
      "Testing accuracy: 80.16%\n",
      "Batch size: 50. Epoch 1: Loss: 0.092532\n",
      "Batch size: 50. Epoch 2: Loss: 0.042852\n",
      "Batch size: 50. Epoch 3: Loss: 0.021655\n"
     ]
    }
   ],
   "source": [
    "#batch_sizes = [5,25,50,100]\n",
    "test_accs = []\n",
    "num_epochs = 10\n",
    "test_loader = torch.utils.data.DataLoader(test_list, batch_size=len(test_list), shuffle=True, num_workers=0)\n",
    "#for batch_size in batch_sizes:\n",
    "    #batch_test_acc = []\n",
    "batch_size = 50\n",
    "# 5 runs\n",
    "for i in range(5):\n",
    "    train_loader = torch.utils.data.DataLoader(train_list, batch_size=batch_size, shuffle=True, num_workers=0)\n",
    "    model = ResNet(1,64,num_speakers,num_regions)\n",
    "    crit = nn.CrossEntropyLoss()\n",
    "    crit2 = nn.CrossEntropyLoss()\n",
    "    crit3 = nn.CrossEntropyLoss()\n",
    "    optimizer = torch.optim.Adam(model.parameters())\n",
    "    # Train\n",
    "    epoch_losses = []\n",
    "    for i in range(num_epochs):\n",
    "        model.train(True)\n",
    "        epoch_loss = 0\n",
    "        for batch_id, (data,speakers,genders,regions) in enumerate(train_loader):\n",
    "            data = data.unsqueeze(1).float()\n",
    "            optimizer.zero_grad()\n",
    "            #Multi-task learning: simultaneously train on speaker identity, gender, and region labels\n",
    "            y1, y2, y3 = model(data)\n",
    "            #y2_pred = torch.argmax(y2,axis=1).float()\n",
    "            loss = 0.8*crit(y1,speakers) + 0.1*crit2(y2,genders) + 0.1*crit3(y3,regions)\n",
    "            loss.backward()\n",
    "            optimizer.step()\n",
    "            epoch_loss += loss.item()\n",
    "        epoch_losses.append(epoch_loss/(len(train_list)+1))\n",
    "        print('Batch size: {}. Epoch {}: Loss: {:.6f}'.format(batch_size, i+1, epoch_losses[-1]))\n",
    "\n",
    "    with torch.no_grad():\n",
    "        model.train(False)\n",
    "        # Test on entire testing set\n",
    "        for _, (data,speakers,genders,regions) in enumerate(test_loader):\n",
    "            data = data.unsqueeze(1).float()\n",
    "            y_hat, y2, y3 = model(data)\n",
    "            y_pred = torch.argmax(y_hat,axis=1)\n",
    "            corr_preds = torch.zeros(len(speakers),1)\n",
    "            corr_preds[y_pred == speakers] = 1\n",
    "            curr_test_acc = corr_preds.sum()/len(speakers)*100\n",
    "            print('Testing accuracy: {:.2f}%'.format(curr_test_acc))\n",
    "    test_accs.append(curr_test_acc.item())\n",
    "    #test_accs.append(batch_test_acc)"
   ]
  },
  {
   "cell_type": "code",
   "execution_count": null,
   "metadata": {},
   "outputs": [],
   "source": [
    "# Compare predictions to true labels\n",
    "df = pd.DataFrame(data={'Predictions': y_pred, 'True labels': speakers})\n",
    "print(df)"
   ]
  },
  {
   "cell_type": "code",
   "execution_count": 80,
   "metadata": {},
   "outputs": [
    {
     "data": {
      "text/plain": [
       "Text(0.5, 1.0, 'Effect of batch size on testing accuracy at 10 epochs')"
      ]
     },
     "execution_count": 80,
     "metadata": {},
     "output_type": "execute_result"
    },
    {
     "data": {
      "image/png": "[encoded data removed]",
      "text/plain": [
       "<Figure size 432x288 with 1 Axes>"
      ]
     },
     "metadata": {
      "needs_background": "light"
     },
     "output_type": "display_data"
    }
   ],
   "source": [
    "plt.plot(batch_size,np.mean(test_accs,axis=1),'x')\n",
    "plt.xlabel('Batch size')\n",
    "plt.ylabel('Testing accuracy (%)')\n",
    "plt.title('Effect of batch size on testing accuracy at 10 epochs')"
   ]
  },
  {
   "cell_type": "code",
   "execution_count": null,
   "metadata": {},
   "outputs": [],
   "source": []
  }
 ],
 "metadata": {
  "kernelspec": {
   "display_name": "Python 3",
   "language": "python",
   "name": "python3"
  },
  "language_info": {
   "codemirror_mode": {
    "name": "ipython",
    "version": 3
   },
   "file_extension": ".py",
   "mimetype": "text/x-python",
   "name": "python",
   "nbconvert_exporter": "python",
   "pygments_lexer": "ipython3",
   "version": "3.7.1"
  }
 },
 "nbformat": 4,
 "nbformat_minor": 2
}
