{
 "cells": [
  {
   "cell_type": "code",
   "execution_count": 1,
   "metadata": {},
   "outputs": [
    {
     "data": {
      "text/plain": [
       "(<timit_utils.core.SubCorpus at 0x10f6fb470>,\n",
       " <timit_utils.core.SubCorpus at 0x328d83438>)"
      ]
     },
     "execution_count": 1,
     "metadata": {},
     "output_type": "execute_result"
    }
   ],
   "source": [
    "import torch\n",
    "import torch.nn as nn\n",
    "import torch.nn.functional as F\n",
    "import torch.optim\n",
    "import torchvision\n",
    "import torchvision.transforms as transforms\n",
    "import torch.optim as optim\n",
    "import matplotlib.pyplot as plt\n",
    "import numpy as np\n",
    "import imageio\n",
    "import timit_utils as tu\n",
    "import timit_utils.audio_utils as au\n",
    "import timit_utils.drawing_utils as du\n",
    "import random\n",
    "#import librosa\n",
    "#from python_speech_features import mfcc\n",
    "#from python_speech_features import logfbank\n",
    "\n",
    "corpus = tu.Corpus('TIMIT')\n",
    "train = corpus.train\n",
    "test = corpus.test\n",
    "corpus.train, corpus.test"
   ]
  },
  {
   "cell_type": "code",
   "execution_count": 2,
   "metadata": {
    "scrolled": true
   },
   "outputs": [
    {
     "name": "stdout",
     "output_type": "stream",
     "text": [
      "[38, 76, 76, 68, 70, 35, 77, 22]\n"
     ]
    }
   ],
   "source": [
    "# Get a dictionary that indexes all recordings\n",
    "num_people = []\n",
    "rec_id = {'region': [], 'person': [], 'sentence': []}\n",
    "for i in range(len(train.regions)):\n",
    "    curr_people = len(train.region_by_index(i).people)\n",
    "    num_people.append(curr_people)\n",
    "    for j in range(curr_people):\n",
    "        curr_sentences = len(train.region_by_index(i).person_by_index(j).sentences)\n",
    "        for k in range(curr_sentences):\n",
    "            rec_id['region'].append(i)\n",
    "            rec_id['person'].append(j)\n",
    "            rec_id['sentence'].append(k)\n",
    "print(num_people)"
   ]
  },
  {
   "cell_type": "code",
   "execution_count": 3,
   "metadata": {
    "scrolled": true
   },
   "outputs": [],
   "source": [
    "def get_audio(rec_id,index):\n",
    "    return train.region_by_index(rec_id['region'][index]).person_by_index(rec_id['person'][index]).sentence_by_index(rec_id['sentence'][index]).raw_audio\n",
    "\n",
    "def load_data(rec_id,batch_indices):\n",
    "    data = []\n",
    "    for i in batch_indices:\n",
    "        data.append(get_audio(rec_id,i))\n",
    "    return data\n",
    "\n",
    "train_order = np.arange(0,sum(num_people))\n",
    "random.shuffle(train_order)"
   ]
  },
  {
   "cell_type": "code",
   "execution_count": 13,
   "metadata": {},
   "outputs": [],
   "source": [
    "import time\n",
    "batch_size = 20\n",
    "count = 0\n",
    "# Train on small batches of dataset\n",
    "# Uncomment out second part in line below\n",
    "for i in range(1):#range(int(np.floor(sum(num_people)/batch_size))):\n",
    "    train_batch = train_order[count:count+batch_size]\n",
    "    tic = time.time()\n",
    "    data = load_data(rec_id,train_batch)\n",
    "    elapsed = time.time()-tic\n",
    "    # Get features, train etc\n",
    "    count += batch_size"
   ]
  },
  {
   "cell_type": "code",
   "execution_count": 14,
   "metadata": {},
   "outputs": [
    {
     "name": "stdout",
     "output_type": "stream",
     "text": [
      "Time to load one batch of data (batch size 20):\n",
      "0.00021386146545410156\n"
     ]
    }
   ],
   "source": [
    "print(\"Time to load one batch of data (batch size 20):\")\n",
    "print(elapsed)"
   ]
  },
  {
   "cell_type": "code",
   "execution_count": null,
   "metadata": {},
   "outputs": [],
   "source": []
  },
  {
   "cell_type": "code",
   "execution_count": null,
   "metadata": {},
   "outputs": [],
   "source": []
  }
 ],
 "metadata": {
  "kernelspec": {
   "display_name": "Python 3",
   "language": "python",
   "name": "python3"
  },
  "language_info": {
   "codemirror_mode": {
    "name": "ipython",
    "version": 3
   },
   "file_extension": ".py",
   "mimetype": "text/x-python",
   "name": "python",
   "nbconvert_exporter": "python",
   "pygments_lexer": "ipython3",
   "version": "3.7.1"
  }
 },
 "nbformat": 4,
 "nbformat_minor": 2
}
