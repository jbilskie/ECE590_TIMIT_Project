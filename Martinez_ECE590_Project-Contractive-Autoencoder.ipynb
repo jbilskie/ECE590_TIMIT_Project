{
 "cells": [
  {
   "cell_type": "code",
   "execution_count": 1,
   "metadata": {},
   "outputs": [
    {
     "data": {
      "text/plain": [
       "(<timit_utils.core.SubCorpus at 0x1cfd87290c8>,\n",
       " <timit_utils.core.SubCorpus at 0x1cfd8f16948>)"
      ]
     },
     "execution_count": 1,
     "metadata": {},
     "output_type": "execute_result"
    }
   ],
   "source": [
    "import torch\n",
    "import torch.nn as nn\n",
    "import torch.nn.functional as F\n",
    "import torch.optim\n",
    "import torch.optim as optim\n",
    "import matplotlib.pyplot as plt\n",
    "from sklearn import preprocessing\n",
    "from sklearn.decomposition import PCA\n",
    "from sklearn.linear_model import LogisticRegression\n",
    "import numpy as np\n",
    "import numpy.matlib\n",
    "import math\n",
    "import random\n",
    "import timit_utils as tu\n",
    "import timit_utils.audio_utils as au\n",
    "import timit_utils.drawing_utils as du\n",
    "\n",
    "corpus = tu.Corpus('TIMIT')\n",
    "train = corpus.train\n",
    "test = corpus.test\n",
    "corpus.train, corpus.test"
   ]
  },
  {
   "cell_type": "markdown",
   "metadata": {},
   "source": [
    "### Check for length of sentences."
   ]
  },
  {
   "cell_type": "code",
   "execution_count": 2,
   "metadata": {},
   "outputs": [
    {
     "name": "stdout",
     "output_type": "stream",
     "text": [
      "Max sentence length in training set is  7.7888125  seconds.\n",
      "Min sentence length in training set is  0.91525  seconds.\n"
     ]
    }
   ],
   "source": [
    "sentence_lengths = []\n",
    "for p in range(len(train.people)):\n",
    "    for s in range(len(train.person_by_index(p).sentences)):\n",
    "        sentence = train.person_by_index(p).sentence_by_index(s).raw_audio\n",
    "        sentence_lengths.append(len(sentence))\n",
    "print('Max sentence length in training set is ', max(sentence_lengths)/16000, ' seconds.')\n",
    "print('Min sentence length in training set is ', min(sentence_lengths)/16000, ' seconds.')\n",
    "#plt.hist([x / 16000 for x in sentence_lengths], bins=100)\n",
    "#plt.title('Histogram of Training Sentence Lengths')\n",
    "#plt.xlabel('Length [sec]')\n",
    "#plt.ylabel('Number of Sentences')\n",
    "#plt.show()"
   ]
  },
  {
   "cell_type": "code",
   "execution_count": 3,
   "metadata": {},
   "outputs": [
    {
     "name": "stdout",
     "output_type": "stream",
     "text": [
      "Max sentence length in testing set is  7.57125  seconds.\n",
      "Min sentence length in testing set is  1.0944375  seconds.\n"
     ]
    }
   ],
   "source": [
    "sentence_lengths = []\n",
    "for p in range(len(test.people)):\n",
    "    for s in range(len(test.person_by_index(p).sentences)):\n",
    "        sentence = test.person_by_index(p).sentence_by_index(s).raw_audio\n",
    "        sentence_lengths.append(len(sentence))\n",
    "print('Max sentence length in testing set is ', max(sentence_lengths)/16000, ' seconds.')\n",
    "print('Min sentence length in testing set is ', min(sentence_lengths)/16000, ' seconds.')\n",
    "#plt.hist([x / 16000 for x in sentence_lengths], bins=100)\n",
    "#plt.title('Histogram of Testing Sentence Lengths')\n",
    "#plt.xlabel('Length [sec]')\n",
    "#plt.ylabel('Number of Sentences')\n",
    "#plt.show()"
   ]
  },
  {
   "cell_type": "markdown",
   "metadata": {},
   "source": [
    "### Make all training and testing samples the same length in time."
   ]
  },
  {
   "cell_type": "code",
   "execution_count": 4,
   "metadata": {},
   "outputs": [
    {
     "name": "stdout",
     "output_type": "stream",
     "text": [
      "Number of speakers in data:  630\n"
     ]
    }
   ],
   "source": [
    "data_set = []\n",
    "label_id = []\n",
    "for p in range(len(train.people)):\n",
    "    count = 0\n",
    "    for s in range(len(train.person_by_index(p).sentences)):\n",
    "        sentence = train.person_by_index(p).sentence_by_index(s).raw_audio\n",
    "        data_set.append(sentence)\n",
    "        label_id.append(train.person_by_index(p).name)\n",
    "for p in range(len(test.people)):\n",
    "    count = 0\n",
    "    for s in range(len(test.person_by_index(p).sentences)):\n",
    "        sentence = test.person_by_index(p).sentence_by_index(s).raw_audio\n",
    "        data_set.append(sentence)\n",
    "        label_id.append(test.person_by_index(p).name)\n",
    "num_speakers = len(set(label_id))\n",
    "print('Number of speakers in data: ', num_speakers)"
   ]
  },
  {
   "cell_type": "markdown",
   "metadata": {},
   "source": [
    "### How many speakers are in test and train sets?"
   ]
  },
  {
   "cell_type": "code",
   "execution_count": 5,
   "metadata": {},
   "outputs": [],
   "source": [
    "num_speakers = 15 # number of speakers being considered\n",
    "le1 = preprocessing.LabelEncoder()\n",
    "le1.fit(label_id)\n",
    "label_id = le1.transform(label_id)\n",
    "\n",
    "sub_data_set = []\n",
    "sub_label_id = []\n",
    "speak_ind = []\n",
    "for ind1 in range(num_speakers):\n",
    "    ind2 = np.random.randint(630, size=1)\n",
    "    while ind2[0] in speak_ind is False:\n",
    "        ind2 = np.random.randint(630, size=1)\n",
    "    speak_ind.append(ind2[0])\n",
    "act_ind = []\n",
    "for ID in speak_ind:\n",
    "    act_ind= np.where(label_id == ID)\n",
    "    sub_data_set = sub_data_set+data_set[act_ind[0][0]:act_ind[0][-1]+1]\n",
    "    sub_label_id = sub_label_id+label_id[act_ind[0]].tolist()"
   ]
  },
  {
   "cell_type": "markdown",
   "metadata": {},
   "source": [
    "### Next cell makes sure all speakers are in both the training and test set, but no speech segments are included in both sets."
   ]
  },
  {
   "cell_type": "code",
   "execution_count": 6,
   "metadata": {},
   "outputs": [],
   "source": [
    "L = 1 # length of samples in seconds\n",
    "Fs = 16000\n",
    "\n",
    "num_train_per_test = 3 # for every 3 training sentences, there is 1 testing sentence\n",
    "training_set = []\n",
    "training_label_id = []\n",
    "testing_set = []\n",
    "testing_label_id = []\n",
    "for ID in set(sub_label_id):\n",
    "    person_ind = [i for i, x in enumerate(sub_label_id) if x == ID]\n",
    "    for i, sent_per_ID in enumerate(person_ind):\n",
    "        if i%(num_train_per_test+1) == 0:\n",
    "            testing_set.append(sub_data_set[sent_per_ID])\n",
    "            testing_label_id.append(sub_label_id[sent_per_ID])\n",
    "        else:\n",
    "            training_set.append(sub_data_set[sent_per_ID])\n",
    "            training_label_id.append(sub_label_id[sent_per_ID])\n",
    "\n",
    "ave_seconds_per_ID = sum(sentence_lengths)/(Fs*len(sentence_lengths))*10\n",
    "num_samps_per_ID = round(ave_seconds_per_ID)*10\n",
    "num_samps_per_ID_test = round(num_samps_per_ID*(1/(num_train_per_test+1)))\n",
    "num_samps_per_ID_train = num_samps_per_ID-num_samps_per_ID_test\n",
    "train_set = []\n",
    "train_l = []\n",
    "test_set = []\n",
    "test_l = []\n",
    "for ID_i, ID in enumerate(set(sub_label_id)):\n",
    "    train_person_ind = [i for i, x in enumerate(training_label_id) if x == ID]\n",
    "    test_person_ind = [i for i, x in enumerate(testing_label_id) if x == ID]\n",
    "    for samp in range(num_samps_per_ID_train):\n",
    "        sent = random.choice(train_person_ind)\n",
    "        while len(training_set[sent]) < round(Fs*L):\n",
    "            sent = random.choice(train_person_ind)\n",
    "        start_i = random.randint(0,len(training_set[sent])-round(Fs*L))\n",
    "        train_set.append(training_set[sent][start_i:start_i+round(Fs*L)])\n",
    "        train_l.append(ID_i)\n",
    "    for samp in range(num_samps_per_ID_test):\n",
    "        sent = random.choice(test_person_ind)\n",
    "        while len(testing_set[sent]) < round(Fs*L):\n",
    "            sent = random.choice(test_person_ind)\n",
    "        start_i = random.randint(0,len(testing_set[sent])-round(Fs*L))\n",
    "        test_set.append(testing_set[sent][start_i:start_i+round(Fs*L)])\n",
    "        test_l.append(ID_i)"
   ]
  },
  {
   "cell_type": "code",
   "execution_count": 34,
   "metadata": {},
   "outputs": [],
   "source": [
    "train_max=np.array([np.max(train_set,1)]).T\n",
    "train_max=np.matlib.repmat(train_max,1,np.shape(train_set)[1])\n",
    "train_set=np.divide(train_set,train_max)\n",
    "train_set=train_set[0:1000]\n",
    "\n",
    "test_max=np.array([np.max(test_set,1)]).T\n",
    "test_max=np.matlib.repmat(test_max,1,np.shape(test_set)[1])\n",
    "test_set=np.divide(test_set,test_max)\n",
    "test_set=test_set[0:500]"
   ]
  },
  {
   "cell_type": "code",
   "execution_count": 35,
   "metadata": {},
   "outputs": [
    {
     "name": "stdout",
     "output_type": "stream",
     "text": [
      "(500, 16000)\n"
     ]
    }
   ],
   "source": [
    "print(np.shape(test_set))"
   ]
  },
  {
   "cell_type": "markdown",
   "metadata": {},
   "source": [
    "n_components=400\n",
    "pca = PCA(n_components)\n",
    "pca.fit(train_set)\n",
    "\n",
    "train_set_red = pca.transform(train_set)\n",
    "test_set_red = pca.transform(test_set)\n",
    "\n",
    "plt.plot(np.arange(1,n_components+1), 100*pca.explained_variance_ratio_ , '^', lw=3, markersize = 15)\n",
    "plt.xlabel('Index of Sindular Values')\n",
    "plt.ylabel('Explained Variance Percentage')\n",
    "plt.grid()\n",
    "print(np.sum(pca.explained_variance_ratio_))"
   ]
  },
  {
   "cell_type": "markdown",
   "metadata": {},
   "source": [
    "model = LogisticRegression(random_state=0, solver='saga',multi_class='multinomial',max_iter=10000).fit(freq_train_set, train_l)\n",
    "\n",
    "train_output = model.predict(freq_train_set)\n",
    "test_output = model.predict(freq_test_set)\n",
    "\n",
    "acc_train_vec=torch.zeros((np.shape(train_set)[0],))\n",
    "for i in range(np.shape(train_set)[0]):\n",
    "    if train_output[i]==train_l[i]:\n",
    "        acc_train_vec[i]=1\n",
    "\n",
    "acc_test_vec=torch.zeros((np.shape(test_set)[0],))\n",
    "for i in range(np.shape(test_set)[0]):\n",
    "    if test_output[i]==test_l[i]:\n",
    "        acc_test_vec[i]=1\n",
    "        \n",
    "acc_train=torch.sum(acc_train_vec)/np.shape(train_set)[0]*100\n",
    "acc_test=torch.sum(acc_test_vec)/np.shape(test_set)[0]*100\n",
    "print('Train Accuracy for PCA= {:.4f}%'.format(acc_train.item()))\n",
    "print('Test Accuracy for PCA= {:.4f}%'.format(acc_test.item()))"
   ]
  },
  {
   "cell_type": "markdown",
   "metadata": {},
   "source": [
    "### Data loaders for time-series input."
   ]
  },
  {
   "cell_type": "code",
   "execution_count": 42,
   "metadata": {},
   "outputs": [],
   "source": [
    "batch_size = 100\n",
    "train_loader,test_loader = {},{}\n",
    "num_speakers = len(set(train_l))\n",
    "train_list = []\n",
    "for ind, data in enumerate(train_set):\n",
    "    train_list.append((data, train_l[ind]))\n",
    "test_list = []\n",
    "for ind, data in enumerate(test_set):\n",
    "    test_list.append((data, test_l[ind]))\n",
    "train_loader['timit'] = torch.utils.data.DataLoader(train_list, batch_size=batch_size, shuffle=True, num_workers=0)\n",
    "test_loader['timit'] = torch.utils.data.DataLoader(test_list, batch_size=batch_size, shuffle=False, num_workers=0)\n",
    "\n"
   ]
  },
  {
   "cell_type": "code",
   "execution_count": 43,
   "metadata": {},
   "outputs": [],
   "source": [
    "class CAE(nn.Module):\n",
    "    def __init__(self,n_in,n_hid,n_hid2, n_hid3, z_dim):\n",
    "        super(CAE, self).__init__()\n",
    "        self.enc_lin1 = nn.Linear(n_in, n_hid)\n",
    "        self.enc_lin2 = nn.Linear(n_hid, n_hid2)\n",
    "        self.enc_lin3 = nn.Linear(n_hid, n_hid3)\n",
    "        self.enc_lin4 = nn.Linear(n_hid3, z_dim)\n",
    "\n",
    "        self.dec_lin1 = nn.Linear(z_dim, n_hid3)\n",
    "        self.dec_lin2 = nn.Linear(n_hid3, n_hid)\n",
    "        self.dec_lin3 = nn.Linear(n_hid2, n_hid)\n",
    "        self.dec_lin4 = nn.Linear(n_hid, n_in)\n",
    "    \n",
    "    def encode(self,x):\n",
    "        x = F.relu(self.enc_lin1(x))\n",
    "        x = F.relu(self.enc_lin3(x))\n",
    "        #x = F.relu(self.enc_lin3(x))\n",
    "        x = self.enc_lin4(x)\n",
    "        return x\n",
    "    \n",
    "    def decode(self,x):\n",
    "        x = F.relu(self.dec_lin1(x))\n",
    "        x = F.relu(self.dec_lin2(x))\n",
    "        #x = F.relu(self.dec_lin3(x))\n",
    "        x = torch.tanh(self.dec_lin4(x))\n",
    "        return x\n",
    "    \n",
    "    def forward(self, x):\n",
    "        enc = self.encode(x)\n",
    "        dec = self.decode(enc)\n",
    "        return enc, dec\n",
    "\n",
    "criterion  = nn.MSELoss()\n",
    "lam= 1e-3\n",
    "def contractive_loss(W, x, recons_x, h,lam):\n",
    "    mse = criterion(recons_x, x)\n",
    "    dh = h*(1-h)\n",
    "    w_sum = torch.sum(W**2, dim=1)\n",
    "    w_sum = w_sum.unsqueeze(1)\n",
    "    contractive_loss_value = torch.sum(torch.mm(dh**2, w_sum),0)\n",
    "    return mse + contractive_loss_value.mul(lam)"
   ]
  },
  {
   "cell_type": "code",
   "execution_count": 44,
   "metadata": {},
   "outputs": [],
   "source": [
    "def train(model, device, train_loader, optimizer, epoch):\n",
    "    train_loss = 0\n",
    "    model.train()\n",
    "    model.double()\n",
    "    for batch_idx, (data, target) in enumerate(train_loader):\n",
    "        data, target = data.to(device), target.to(device)\n",
    "        optimizer.zero_grad()\n",
    "        \n",
    "        h, output = model(data)\n",
    "        W = model.state_dict()['enc_lin4.weight']\n",
    "        \n",
    "        loss = contractive_loss(W, data, output, h, lam) #sometimes different criteria requires multiplying by batch size\n",
    "        loss.backward()\n",
    "        train_loss += loss.item()\n",
    "        train_loss=train_loss/(batch_idx+1)\n",
    "\n",
    "        optimizer.step()\n",
    "        #if batch_idx % (len(train_loader)//2) == 0:\n",
    "            #print('Train({})[{:.0f}%]: Loss: {:.4f},Train Accuracy: {:.4f}%'.format(\n",
    "                #epoch, 100. * batch_idx / len(train_loader), train_loss,train_acc))\n",
    "    return train_loss\n",
    "            \n",
    "def test(model, device, test_loader, epoch):\n",
    "    model.eval()\n",
    "    model.double()\n",
    "    test_loss = 0\n",
    "    with torch.no_grad():\n",
    "        for data, target in test_loader:\n",
    "            data, target = data.to(device), target.to(device)\n",
    "            h, output = model(data)\n",
    "            W = model.state_dict()['enc_lin4.weight']\n",
    "            loss= contractive_loss(W, data, output, h, lam) # sum up batch loss\n",
    "            test_loss+=loss.item()\n",
    "\n",
    "    test_loss = (test_loss*batch_size)/len(test_loader.dataset)\n",
    "    #print('Test({}): Loss: {:.4f},Test Accuracy: {:.4f}%'.format(\n",
    "        #epoch, test_loss, test_acc))\n",
    "    return test_loss"
   ]
  },
  {
   "cell_type": "code",
   "execution_count": 45,
   "metadata": {},
   "outputs": [],
   "source": [
    "def make_optimizer(optimizer_name, model, **kwargs):\n",
    "    if optimizer_name=='Adam':\n",
    "        optimizer = optim.Adam(model.parameters(),lr=kwargs['lr'])\n",
    "    elif optimizer_name=='SGD':\n",
    "        optimizer = optim.SGD(model.parameters(),lr=kwargs['lr'],momentum=kwargs['momentum'], weight_decay=kwargs['weight_decay'])\n",
    "    else:\n",
    "        raise ValueError('Not valid optimizer name')\n",
    "    return optimizer\n",
    "    \n",
    "def make_scheduler(scheduler_name, optimizer, **kwargs):\n",
    "    if scheduler_name=='MultiStepLR':\n",
    "        scheduler = optim.lr_scheduler.MultiStepLR(optimizer,milestones=kwargs['milestones'],gamma=kwargs['factor'])\n",
    "    else:\n",
    "        raise ValueError('Not valid scheduler name')\n",
    "    return scheduler"
   ]
  },
  {
   "cell_type": "code",
   "execution_count": 46,
   "metadata": {},
   "outputs": [
    {
     "name": "stdout",
     "output_type": "stream",
     "text": [
      "16000\n"
     ]
    }
   ],
   "source": [
    "print(np.shape(train_set)[1])"
   ]
  },
  {
   "cell_type": "markdown",
   "metadata": {},
   "source": [
    "## Autoencoder Training"
   ]
  },
  {
   "cell_type": "code",
   "execution_count": 49,
   "metadata": {},
   "outputs": [
    {
     "name": "stdout",
     "output_type": "stream",
     "text": [
      "Epoch= 1\n",
      "Train Loss= 0.0030866389915334327\n",
      "Test Loss= 0.02296526570614033\n",
      "Epoch= 5\n",
      "Train Loss= 0.0026151976999413116\n",
      "Test Loss= 0.019237134708039765\n"
     ]
    },
    {
     "data": {
      "image/png": "[encoded data removed]",
      "text/plain": [
       "<Figure size 432x288 with 1 Axes>"
      ]
     },
     "metadata": {
      "needs_background": "light"
     },
     "output_type": "display_data"
    },
    {
     "name": "stdout",
     "output_type": "stream",
     "text": [
      "Epoch= 10\n",
      "Train Loss= 0.002517307401664614\n",
      "Test Loss= 0.018748368505371458\n"
     ]
    },
    {
     "data": {
      "image/png": "[encoded data removed]",
      "text/plain": [
       "<Figure size 432x288 with 1 Axes>"
      ]
     },
     "metadata": {
      "needs_background": "light"
     },
     "output_type": "display_data"
    },
    {
     "name": "stdout",
     "output_type": "stream",
     "text": [
      "Epoch= 15\n",
      "Train Loss= 0.0023948074855845423\n",
      "Test Loss= 0.018605359284077822\n"
     ]
    },
    {
     "data": {
      "image/png": "[encoded data removed]",
      "text/plain": [
       "<Figure size 432x288 with 1 Axes>"
      ]
     },
     "metadata": {
      "needs_background": "light"
     },
     "output_type": "display_data"
    },
    {
     "name": "stdout",
     "output_type": "stream",
     "text": [
      "Epoch= 20\n",
      "Train Loss= 0.0023752527695954304\n",
      "Test Loss= 0.0185356725777962\n"
     ]
    },
    {
     "data": {
      "image/png": "[encoded data removed]",
      "text/plain": [
       "<Figure size 432x288 with 1 Axes>"
      ]
     },
     "metadata": {
      "needs_background": "light"
     },
     "output_type": "display_data"
    }
   ],
   "source": [
    "device = 'cpu'\n",
    "data_name = 'timit'\n",
    "optimizer_name = 'SGD'\n",
    "scheduler_name = 'MultiStepLR'\n",
    "\n",
    "num_epochs = 20\n",
    "lr = 0.00001\n",
    "device = torch.device(device)\n",
    "\n",
    "n_in = np.shape(train_set)[1]\n",
    "n_hid = 8000\n",
    "n_hid2 = 6000\n",
    "n_hid3 = 4000\n",
    "z_dim = 2000\n",
    "model = CAE(n_in, n_hid, n_hid2, n_hid3, z_dim).to(device)\n",
    "optimizer=optim.Adam(model.parameters(), lr=lr, betas=(0.95, 0.999), eps=1e-08, weight_decay=0, amsgrad=False)\n",
    "scheduler = make_scheduler(scheduler_name, optimizer, milestones=[5], factor=0.01)\n",
    "\n",
    "train_loss=[]\n",
    "test_loss=[]\n",
    "train_acc=[]\n",
    "test_acc=[]\n",
    "for epoch in range(1, num_epochs + 1):\n",
    "    train_loss_tmp=train(model, device, train_loader[data_name], optimizer, epoch)\n",
    "    test_loss_tmp=test(model, device, test_loader[data_name], epoch)\n",
    "    \n",
    "    train_loss.append(train_loss_tmp)\n",
    "    test_loss.append(test_loss_tmp)\n",
    "    \n",
    "    #scheduler.step()\n",
    "    \n",
    "    if epoch%5==0 or epoch==1:  \n",
    "        print('Epoch=',epoch)\n",
    "        print('Train Loss=',train_loss_tmp)\n",
    "        print('Test Loss=',test_loss_tmp)\n",
    "        #print('Optimizer Learning rate: {0:.4f}'.format(optimizer.param_groups[0]['lr']))\n",
    "        \n",
    "    if epoch%5==0:\n",
    "        plt.figure(1)\n",
    "        plt.plot(np.arange(1,epoch+1),train_loss,color='blue',label='Training Loss')\n",
    "        plt.plot(np.arange(1,epoch+1),test_loss,color='red',label='Testing Loss')\n",
    "        plt.legend()\n",
    "        plt.xlabel('Epoch')\n",
    "        plt.ylabel('Contractive Loss')\n",
    "        plt.grid()\n",
    "        plt.show()\n",
    "\n"
   ]
  },
  {
   "cell_type": "markdown",
   "metadata": {},
   "source": [
    "## Save model in different ways"
   ]
  },
  {
   "cell_type": "markdown",
   "metadata": {},
   "source": [
    "PATH_dict='./ckpt_state_dics.pth'\n",
    "torch.save(model.state_dict(),PATH_dict)\n"
   ]
  },
  {
   "cell_type": "markdown",
   "metadata": {},
   "source": [
    "PATH_all='./ckpt_entire.pth'\n",
    "torch.save(model,PATH_all)"
   ]
  },
  {
   "cell_type": "markdown",
   "metadata": {},
   "source": [
    "PATH_dict='./ckpt_state_dics.pth'\n",
    "device='cuda'\n",
    "device = torch.device(device)\n",
    "n_in = np.shape(train_set)[1]\n",
    "n_hid = 2000\n",
    "n_hid2 = 1000\n",
    "z_dim = 400\n",
    "model=VAE(n_in,n_hid,n_hid2,z_dim).to(device)\n",
    "model.load_state_dict(torch.load(PATH_dict))\n"
   ]
  },
  {
   "cell_type": "code",
   "execution_count": 51,
   "metadata": {},
   "outputs": [],
   "source": [
    "model.eval()\n",
    "model.double()\n",
    "device='cpu'\n",
    "device = torch.device(device)\n",
    "x_train1=torch.from_numpy(train_set[0:100,:]).to(device)\n",
    "x_test1=torch.from_numpy(test_set[0:100,:]).to(device)\n",
    "\n",
    "train_embed=model.encode(x_train1)\n",
    "test_embed=model.encode(x_test1)\n",
    "_,output_test=model(x_test1[0,:])"
   ]
  },
  {
   "cell_type": "code",
   "execution_count": 53,
   "metadata": {},
   "outputs": [],
   "source": [
    "output_test=output_test.detach().cpu().numpy()\n",
    "train_embed=train_embed.detach().cpu().numpy()\n",
    "test_embed=test_embed.detach().cpu().numpy()"
   ]
  },
  {
   "cell_type": "code",
   "execution_count": 54,
   "metadata": {},
   "outputs": [
    {
     "data": {
      "text/plain": [
       "[<matplotlib.lines.Line2D at 0x1d0427425c8>]"
      ]
     },
     "execution_count": 54,
     "metadata": {},
     "output_type": "execute_result"
    },
    {
     "data": {
      "image/png": "[encoded data removed]",
      "text/plain": [
       "<Figure size 432x288 with 1 Axes>"
      ]
     },
     "metadata": {
      "needs_background": "light"
     },
     "output_type": "display_data"
    },
    {
     "data": {
      "image/png": "[encoded data removed]",
      "text/plain": [
       "<Figure size 432x288 with 1 Axes>"
      ]
     },
     "metadata": {
      "needs_background": "light"
     },
     "output_type": "display_data"
    }
   ],
   "source": [
    "samp=x_test1[0,:].detach().cpu().numpy()\n",
    "plt.figure()\n",
    "plt.plot(output_test)\n",
    "plt.figure()\n",
    "plt.plot(samp)"
   ]
  },
  {
   "cell_type": "code",
   "execution_count": null,
   "metadata": {},
   "outputs": [],
   "source": [
    "batch_size=100\n",
    "train_loader,test_loader = {},{}\n",
    "train_list = []\n",
    "for ind, data in enumerate(train_embed):\n",
    "    train_list.append((data, train_l[ind]))\n",
    "test_list = []\n",
    "for ind, data in enumerate(test_embed):\n",
    "    test_list.append((data, test_l[ind]))\n",
    "train_loader['AE'] = torch.utils.data.DataLoader(train_list, batch_size=batch_size, shuffle=True, num_workers=0)\n",
    "test_loader['AE'] = torch.utils.data.DataLoader(test_list, batch_size=batch_size, shuffle=False, num_workers=0)"
   ]
  },
  {
   "cell_type": "markdown",
   "metadata": {},
   "source": [
    "class timit_AE_nn(nn.Module):\n",
    "    def __init__(self,in_channels,out_channels):\n",
    "        super(timit_AE_nn, self).__init__()\n",
    "        self.fc1 = nn.Linear(in_channels, 400,bias=True)\n",
    "        self.fc2 = nn.Linear(400,200,bias=True)\n",
    "        self.fc3 = nn.Linear(200,100,bias=True)\n",
    "        self.fc4 = nn.Linear(100,out_channels,bias=True)\n",
    "\n",
    "    def forward(self, x):\n",
    "        x=F.relu(self.fc1(x))\n",
    "        x=F.relu(self.fc2(x))\n",
    "        x=F.relu(self.fc3(x))\n",
    "        x=F.softmax(self.fc4(x),dim=1)\n",
    "        return x"
   ]
  },
  {
   "cell_type": "markdown",
   "metadata": {},
   "source": [
    "def train(model, device, train_loader, criterion, optimizer, epoch):\n",
    "    train_loss = 0\n",
    "    correct_train=0\n",
    "    model.train()\n",
    "    model.double()\n",
    "    for batch_idx, (data, target) in enumerate(train_loader):\n",
    "        #if batch_idx==0:\n",
    "            #plt.figure()\n",
    "            #plt.plot(data[0,:])\n",
    "        data, target = data.to(device), target.to(device)\n",
    "        #data = data.reshape(len(data),1,data[0].size()[0])\n",
    "        optimizer.zero_grad()\n",
    "        output = model(data)\n",
    "        loss = criterion(output, target) #sometimes different criteria requires multiplying by batch size\n",
    "        loss.backward()\n",
    "\n",
    "        pred_train = output.argmax(dim=1, keepdim=True)\n",
    "        correct_train += pred_train.eq(target.view_as(pred_train)).sum().item()\n",
    "        train_loss += loss.item()\n",
    "        train_loss=train_loss/(batch_idx+1)\n",
    "        train_acc=100. * correct_train / len(train_loader.dataset)\n",
    "        optimizer.step()\n",
    "        #if batch_idx % (len(train_loader)//2) == 0:\n",
    "            #print('Train({})[{:.0f}%]: Loss: {:.4f},Train Accuracy: {:.4f}%'.format(\n",
    "                #epoch, 100. * batch_idx / len(train_loader), train_loss,train_acc))\n",
    "    return train_loss,train_acc\n",
    "            \n",
    "def test(model, device, test_loader, criterion, epoch):\n",
    "    model.eval()\n",
    "    model.double()\n",
    "    test_loss = 0\n",
    "    correct = 0\n",
    "    with torch.no_grad():\n",
    "        for data, target in test_loader:\n",
    "            data, target = data.to(device), target.to(device)\n",
    "            #data = data.reshape(len(data),1,data[0].size()[0])\n",
    "            output = model(data)\n",
    "            test_loss += criterion(output, target).item() # sum up batch loss\n",
    "            pred = output.argmax(dim=1, keepdim=True) # get the index of the max log-probability\n",
    "            \n",
    "            #print(output)\n",
    "            #print(target)\n",
    "            #print(pred)\n",
    "            correct += pred.eq(target.view_as(pred)).sum().item()\n",
    "            test_acc=100. * correct / len(test_loader.dataset)\n",
    "\n",
    "    test_loss = (test_loss*batch_size)/len(test_loader.dataset)\n",
    "    #print('Test({}): Loss: {:.4f},Test Accuracy: {:.4f}%'.format(\n",
    "        #epoch, test_loss, test_acc))\n",
    "    return test_loss,test_acc"
   ]
  },
  {
   "cell_type": "markdown",
   "metadata": {},
   "source": [
    "def make_optimizer(optimizer_name, model, **kwargs):\n",
    "    if optimizer_name=='Adam':\n",
    "        optimizer = optim.Adam(model.parameters(),lr=kwargs['lr'])\n",
    "    elif optimizer_name=='SGD':\n",
    "        optimizer = optim.SGD(model.parameters(),lr=kwargs['lr'],momentum=kwargs['momentum'], weight_decay=kwargs['weight_decay'])\n",
    "    else:\n",
    "        raise ValueError('Not valid optimizer name')\n",
    "    return optimizer\n",
    "    \n",
    "def make_scheduler(scheduler_name, optimizer, **kwargs):\n",
    "    if scheduler_name=='MultiStepLR':\n",
    "        scheduler = optim.lr_scheduler.MultiStepLR(optimizer,milestones=kwargs['milestones'],gamma=kwargs['factor'])\n",
    "    else:\n",
    "        raise ValueError('Not valid scheduler name')\n",
    "    return scheduler"
   ]
  },
  {
   "cell_type": "markdown",
   "metadata": {},
   "source": [
    "device = 'cuda'\n",
    "data_name = 'AE'\n",
    "optimizer_name = 'SGD'\n",
    "scheduler_name = 'MultiStepLR'\n",
    "num_epochs = 5000\n",
    "lr = 0.1\n",
    "device = torch.device(device)\n",
    "in_channels = np.shape(train_embed)[1]\n",
    "out_channels = num_speakers\n",
    "model = timit_AE_nn(in_channels,out_channels).to(device)\n",
    "criterion = nn.CrossEntropyLoss()\n",
    "optimizer=optim.Adam(model.parameters(), lr=lr, betas=(0.9, 0.999), eps=1e-08, weight_decay=0, amsgrad=False)\n",
    "\n",
    "scheduler = make_scheduler(scheduler_name, optimizer, milestones=[10,20,30], factor=0.1)\n",
    "\n",
    "train_loss=[]\n",
    "test_loss=[]\n",
    "train_acc=[]\n",
    "test_acc=[]\n",
    "for epoch in range(1, num_epochs + 1):\n",
    "    train_loss_tmp, train_acc_tmp=train(model, device, train_loader[data_name], criterion, optimizer, epoch)\n",
    "    test_loss_tmp, test_acc_tmp=test(model, device, test_loader[data_name], criterion, epoch)\n",
    "    \n",
    "    train_loss.append(train_loss_tmp)\n",
    "    test_loss.append(test_loss_tmp)\n",
    "    \n",
    "    train_acc.append(train_acc_tmp)\n",
    "    test_acc.append(test_acc_tmp)\n",
    "    #scheduler.step()\n",
    "    \n",
    "    if epoch%20==0:\n",
    "        plt.figure(1)\n",
    "        plt.plot(np.arange(1,epoch+1),train_loss,color='blue',label='Training Loss')\n",
    "        plt.plot(np.arange(1,epoch+1),test_loss,color='red',label='Testing Loss')\n",
    "        plt.legend()\n",
    "        plt.xlabel('Epoch')\n",
    "        plt.ylabel('Cross Entropy Loss')\n",
    "        plt.grid()\n",
    "        plt.show()\n",
    "\n",
    "        plt.figure(2)\n",
    "        plt.plot(np.arange(1,epoch+1),train_acc,color='blue',label='Training Accuracy')\n",
    "        plt.plot(np.arange(1,epoch+1),test_acc,color='red',label='Testing Accuracy')\n",
    "        plt.legend()\n",
    "        plt.xlabel('Epoch')\n",
    "        plt.ylabel('Accuracy')\n",
    "        plt.grid()\n",
    "        plt.show()\n",
    "        \n",
    "        print('Epoch=',epoch)\n",
    "        print('Train Acc=',train_acc_tmp)\n",
    "        print('Test Acc=',test_acc_tmp)\n",
    "        #print('Optimizer Learning rate: {0:.4f}'.format(optimizer.param_groups[0]['lr']))\n",
    "\n"
   ]
  },
  {
   "cell_type": "code",
   "execution_count": null,
   "metadata": {},
   "outputs": [],
   "source": []
  }
 ],
 "metadata": {
  "kernelspec": {
   "display_name": "Python 3",
   "language": "python",
   "name": "python3"
  },
  "language_info": {
   "codemirror_mode": {
    "name": "ipython",
    "version": 3
   },
   "file_extension": ".py",
   "mimetype": "text/x-python",
   "name": "python",
   "nbconvert_exporter": "python",
   "pygments_lexer": "ipython3",
   "version": "3.7.5"
  }
 },
 "nbformat": 4,
 "nbformat_minor": 2
}
